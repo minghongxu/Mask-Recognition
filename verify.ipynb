{
 "cells": [
  {
   "cell_type": "code",
   "execution_count": 1,
   "metadata": {},
   "outputs": [
    {
     "data": {
      "text/plain": [
       "'2.4.3'"
      ]
     },
     "execution_count": 1,
     "metadata": {},
     "output_type": "execute_result"
    }
   ],
   "source": [
    "import keras\n",
    "keras.__version__"
   ]
  },
  {
   "cell_type": "code",
   "execution_count": 21,
   "metadata": {},
   "outputs": [],
   "source": [
    "import numpy as np"
   ]
  },
  {
   "cell_type": "code",
   "execution_count": 4,
   "metadata": {},
   "outputs": [],
   "source": [
    "from keras import models\n",
    "from keras import layers\n",
    "from keras.models import load_model\n",
    "\n",
    "model = load_model('mask_small_4.h5')"
   ]
  },
  {
   "cell_type": "code",
   "execution_count": 5,
   "metadata": {},
   "outputs": [
    {
     "name": "stdout",
     "output_type": "stream",
     "text": [
      "Model: \"sequential_9\"\n",
      "_________________________________________________________________\n",
      "Layer (type)                 Output Shape              Param #   \n",
      "=================================================================\n",
      "vgg16 (Functional)           (None, 4, 4, 512)         14714688  \n",
      "_________________________________________________________________\n",
      "flatten_8 (Flatten)          (None, 8192)              0         \n",
      "_________________________________________________________________\n",
      "dense_18 (Dense)             (None, 256)               2097408   \n",
      "_________________________________________________________________\n",
      "dense_19 (Dense)             (None, 1)                 257       \n",
      "=================================================================\n",
      "Total params: 16,812,353\n",
      "Trainable params: 9,177,089\n",
      "Non-trainable params: 7,635,264\n",
      "_________________________________________________________________\n"
     ]
    }
   ],
   "source": [
    "model.summary()"
   ]
  },
  {
   "cell_type": "code",
   "execution_count": 7,
   "metadata": {},
   "outputs": [],
   "source": [
    "import os, shutil"
   ]
  },
  {
   "cell_type": "code",
   "execution_count": 9,
   "metadata": {},
   "outputs": [],
   "source": [
    "original_dataset_dir = '/Users/xmh/AI_mask/mask_data'\n",
    "test_dir = os.path.join(original_dataset_dir, 'test')\n",
    "test_mask_dir = os.path.join(test_dir, 'mask')\n",
    "test_no_mask_dir = os.path.join(test_dir, 'no_mask')"
   ]
  },
  {
   "cell_type": "code",
   "execution_count": 73,
   "metadata": {},
   "outputs": [
    {
     "name": "stdout",
     "output_type": "stream",
     "text": [
      "Found 40 images belonging to 2 classes.\n"
     ]
    }
   ],
   "source": [
    "from keras.preprocessing.image import ImageDataGenerator\n",
    "\n",
    "test_datagen = ImageDataGenerator(rescale=1./255)\n",
    "test_generator = test_datagen.flow_from_directory(\n",
    "        test_dir,\n",
    "        target_size=(150, 150),\n",
    "        batch_size=40,\n",
    "        shuffle=False,\n",
    "        class_mode='binary')"
   ]
  },
  {
   "cell_type": "code",
   "execution_count": 65,
   "metadata": {},
   "outputs": [
    {
     "name": "stdout",
     "output_type": "stream",
     "text": [
      "WARNING:tensorflow:Your input ran out of data; interrupting training. Make sure that your dataset or generator can generate at least `steps_per_epoch * epochs` batches (in this case, 2 batches). You may need to use the repeat() function when building your dataset.\n",
      "test acc: 0.925000011920929\n"
     ]
    }
   ],
   "source": [
    "test_loss, test_acc = model.evaluate_generator(test_generator, steps=2)\n",
    "print('test acc:', test_acc)"
   ]
  },
  {
   "cell_type": "code",
   "execution_count": null,
   "metadata": {},
   "outputs": [],
   "source": []
  },
  {
   "cell_type": "code",
   "execution_count": 74,
   "metadata": {},
   "outputs": [],
   "source": [
    "result = model.predict(test_generator)"
   ]
  },
  {
   "cell_type": "code",
   "execution_count": 75,
   "metadata": {
    "scrolled": true
   },
   "outputs": [
    {
     "data": {
      "text/plain": [
       "array([[9.8356577e-06],\n",
       "       [1.9846229e-05],\n",
       "       [8.6646203e-08],\n",
       "       [1.8245274e-01],\n",
       "       [7.7670973e-07],\n",
       "       [9.6033036e-05],\n",
       "       [9.9606633e-01],\n",
       "       [9.9268818e-01],\n",
       "       [6.6680551e-02],\n",
       "       [5.5809850e-09],\n",
       "       [6.9281925e-10],\n",
       "       [1.0674983e-02],\n",
       "       [4.6318185e-11],\n",
       "       [4.3595551e-06],\n",
       "       [2.5607292e-08],\n",
       "       [1.2978575e-07],\n",
       "       [2.6838183e-02],\n",
       "       [9.4595551e-04],\n",
       "       [4.3910138e-09],\n",
       "       [2.1869246e-06],\n",
       "       [9.9999809e-01],\n",
       "       [9.9851346e-01],\n",
       "       [9.9999958e-01],\n",
       "       [1.0000000e+00],\n",
       "       [8.6750656e-02],\n",
       "       [9.9997997e-01],\n",
       "       [9.9999905e-01],\n",
       "       [1.0000000e+00],\n",
       "       [9.9680167e-01],\n",
       "       [9.9970227e-01],\n",
       "       [9.9240071e-01],\n",
       "       [9.9672264e-01],\n",
       "       [9.9444801e-01],\n",
       "       [1.0000000e+00],\n",
       "       [6.5706706e-01],\n",
       "       [9.7641319e-01],\n",
       "       [1.0000000e+00],\n",
       "       [9.9926913e-01],\n",
       "       [9.9998450e-01],\n",
       "       [9.9977827e-01]], dtype=float32)"
      ]
     },
     "execution_count": 75,
     "metadata": {},
     "output_type": "execute_result"
    }
   ],
   "source": [
    "result"
   ]
  },
  {
   "cell_type": "code",
   "execution_count": null,
   "metadata": {},
   "outputs": [],
   "source": []
  },
  {
   "cell_type": "code",
   "execution_count": 28,
   "metadata": {},
   "outputs": [],
   "source": [
    "idx_to_cls = {v: k for k, v in test_generator.class_indices.items()}"
   ]
  },
  {
   "cell_type": "code",
   "execution_count": 29,
   "metadata": {},
   "outputs": [
    {
     "data": {
      "text/plain": [
       "{0: 'mask', 1: 'no_mask'}"
      ]
     },
     "execution_count": 29,
     "metadata": {},
     "output_type": "execute_result"
    }
   ],
   "source": [
    "idx_to_cls"
   ]
  },
  {
   "cell_type": "code",
   "execution_count": 76,
   "metadata": {},
   "outputs": [],
   "source": [
    "preds_cls_idx = np.where(result>0.5,1,0).reshape(-1,)"
   ]
  },
  {
   "cell_type": "code",
   "execution_count": 77,
   "metadata": {},
   "outputs": [
    {
     "data": {
      "text/plain": [
       "array([0, 0, 0, 0, 0, 0, 1, 1, 0, 0, 0, 0, 0, 0, 0, 0, 0, 0, 0, 0, 1, 1,\n",
       "       1, 1, 0, 1, 1, 1, 1, 1, 1, 1, 1, 1, 1, 1, 1, 1, 1, 1])"
      ]
     },
     "execution_count": 77,
     "metadata": {},
     "output_type": "execute_result"
    }
   ],
   "source": [
    "preds_cls_idx"
   ]
  },
  {
   "cell_type": "code",
   "execution_count": 78,
   "metadata": {},
   "outputs": [],
   "source": [
    "preds_cls = np.vectorize(idx_to_cls.get)(preds_cls_idx)"
   ]
  },
  {
   "cell_type": "code",
   "execution_count": 79,
   "metadata": {},
   "outputs": [],
   "source": [
    "filenames_to_cls = list(zip(test_generator.filenames, preds_cls))"
   ]
  },
  {
   "cell_type": "code",
   "execution_count": 80,
   "metadata": {},
   "outputs": [
    {
     "data": {
      "text/plain": [
       "[('mask/images (1).jpeg', 'mask'),\n",
       " ('mask/images (10).jpeg', 'mask'),\n",
       " ('mask/images (11).jpeg', 'mask'),\n",
       " ('mask/images (12).jpeg', 'mask'),\n",
       " ('mask/images (13).jpeg', 'mask'),\n",
       " ('mask/images (14).jpeg', 'mask'),\n",
       " ('mask/images (15).jpeg', 'no_mask'),\n",
       " ('mask/images (16).jpeg', 'no_mask'),\n",
       " ('mask/images (17).jpeg', 'mask'),\n",
       " ('mask/images (18).jpeg', 'mask'),\n",
       " ('mask/images (19).jpeg', 'mask'),\n",
       " ('mask/images (2).jpeg', 'mask'),\n",
       " ('mask/images (3).jpeg', 'mask'),\n",
       " ('mask/images (4).jpeg', 'mask'),\n",
       " ('mask/images (5).jpeg', 'mask'),\n",
       " ('mask/images (6).jpeg', 'mask'),\n",
       " ('mask/images (7).jpeg', 'mask'),\n",
       " ('mask/images (8).jpeg', 'mask'),\n",
       " ('mask/images (9).jpeg', 'mask'),\n",
       " ('mask/images.jpeg', 'mask'),\n",
       " ('no_mask/3085.jpg', 'no_mask'),\n",
       " ('no_mask/3088.jpg', 'no_mask'),\n",
       " ('no_mask/3089.jpg', 'no_mask'),\n",
       " ('no_mask/3090.jpg', 'no_mask'),\n",
       " ('no_mask/3091.jpg', 'mask'),\n",
       " ('no_mask/images (1).jpeg', 'no_mask'),\n",
       " ('no_mask/images (10).jpeg', 'no_mask'),\n",
       " ('no_mask/images (11).jpeg', 'no_mask'),\n",
       " ('no_mask/images (12).jpeg', 'no_mask'),\n",
       " ('no_mask/images (13).jpeg', 'no_mask'),\n",
       " ('no_mask/images (14).jpeg', 'no_mask'),\n",
       " ('no_mask/images (2).jpeg', 'no_mask'),\n",
       " ('no_mask/images (3).jpeg', 'no_mask'),\n",
       " ('no_mask/images (4).jpeg', 'no_mask'),\n",
       " ('no_mask/images (5).jpeg', 'no_mask'),\n",
       " ('no_mask/images (6).jpeg', 'no_mask'),\n",
       " ('no_mask/images (7).jpeg', 'no_mask'),\n",
       " ('no_mask/images (8).jpeg', 'no_mask'),\n",
       " ('no_mask/images (9).jpeg', 'no_mask'),\n",
       " ('no_mask/images.jpeg', 'no_mask')]"
      ]
     },
     "execution_count": 80,
     "metadata": {},
     "output_type": "execute_result"
    }
   ],
   "source": [
    "filenames_to_cls"
   ]
  },
  {
   "cell_type": "code",
   "execution_count": null,
   "metadata": {},
   "outputs": [],
   "source": []
  },
  {
   "cell_type": "code",
   "execution_count": null,
   "metadata": {},
   "outputs": [],
   "source": []
  },
  {
   "cell_type": "code",
   "execution_count": null,
   "metadata": {},
   "outputs": [],
   "source": []
  },
  {
   "cell_type": "code",
   "execution_count": null,
   "metadata": {},
   "outputs": [],
   "source": []
  }
 ],
 "metadata": {
  "kernelspec": {
   "display_name": "Python 3",
   "language": "python",
   "name": "python3"
  },
  "language_info": {
   "codemirror_mode": {
    "name": "ipython",
    "version": 3
   },
   "file_extension": ".py",
   "mimetype": "text/x-python",
   "name": "python",
   "nbconvert_exporter": "python",
   "pygments_lexer": "ipython3",
   "version": "3.7.6"
  }
 },
 "nbformat": 4,
 "nbformat_minor": 4
}
